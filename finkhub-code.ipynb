{
 "cells": [
  {
   "cell_type": "code",
   "execution_count": 1,
   "id": "70596de4",
   "metadata": {},
   "outputs": [],
   "source": [
    "import pandas as pd\n",
    "import numpy as np\n",
    "import os\n",
    "import yfinance as yf\n"
   ]
  },
  {
   "cell_type": "code",
   "execution_count": 10,
   "id": "c5a9feb9",
   "metadata": {},
   "outputs": [],
   "source": [
    "from functions_test import update_dataset\n",
    "from functions_test import view_transactions\n",
    "from functions_test import profit_user\n",
    "from functions_test import add_new_operation\n",
    "# from functions_test import update_dataset\n",
    "# from functions_test import update_dataset"
   ]
  },
  {
   "cell_type": "code",
   "execution_count": 19,
   "id": "fd0cabdf",
   "metadata": {},
   "outputs": [],
   "source": [
    "add_new_operation(8, \"MSFT\", 338.5, 336)"
   ]
  },
  {
   "cell_type": "code",
   "execution_count": 22,
   "id": "6cbaf5b4",
   "metadata": {
    "scrolled": true
   },
   "outputs": [],
   "source": [
    "update_dataset()"
   ]
  },
  {
   "cell_type": "code",
   "execution_count": 20,
   "id": "010677ae",
   "metadata": {},
   "outputs": [
    {
     "name": "stdout",
     "output_type": "stream",
     "text": [
      "   user_id  operation_id             timestamp_entry  timestamp_exit ticker  \\\n",
      "0       23             0  2023-09-12 10:13:43.620338             NaN   AAPL   \n",
      "1       23             1  2023-09-12 10:13:44.308996             NaN   NVDA   \n",
      "2       25             2  2023-09-12 10:13:44.524999             NaN   AAPL   \n",
      "3       15             3  2023-09-12 14:07:45.291195             NaN   MSFT   \n",
      "4       12             4  2023-09-12 14:08:31.110198             NaN   MSFT   \n",
      "5        8             5  2023-09-12 14:08:48.578403             NaN   MSFT   \n",
      "\n",
      "  operation  current_price  price_purchased  profitability  stop_loss  \\\n",
      "0      long     179.360001       179.360001              0      154.0   \n",
      "1      long     451.779999       451.779999              0      413.0   \n",
      "2     short     179.360001       179.360001              0      210.0   \n",
      "3      long     337.940002       337.940002              0      330.0   \n",
      "4      long     337.940002       337.940002              0      337.5   \n",
      "5     short     337.940002       337.940002              0      338.5   \n",
      "\n",
      "   take_profit  status_transaction  \n",
      "0          211                   1  \n",
      "1          460                   1  \n",
      "2          160                   1  \n",
      "3          345                   1  \n",
      "4          345                   1  \n",
      "5          336                   1  \n"
     ]
    }
   ],
   "source": [
    "view_transactions()"
   ]
  },
  {
   "cell_type": "code",
   "execution_count": 21,
   "id": "89343db0",
   "metadata": {},
   "outputs": [
    {
     "name": "stdout",
     "output_type": "stream",
     "text": [
      "user_id\n",
      "8     0\n",
      "12    0\n",
      "15    0\n",
      "23    0\n",
      "25    0\n",
      "Name: profitability, dtype: int64\n"
     ]
    }
   ],
   "source": [
    "profit_user()"
   ]
  },
  {
   "cell_type": "code",
   "execution_count": null,
   "id": "a8c40413",
   "metadata": {},
   "outputs": [],
   "source": []
  }
 ],
 "metadata": {
  "kernelspec": {
   "display_name": "Python 3 (ipykernel)",
   "language": "python",
   "name": "python3"
  },
  "language_info": {
   "codemirror_mode": {
    "name": "ipython",
    "version": 3
   },
   "file_extension": ".py",
   "mimetype": "text/x-python",
   "name": "python",
   "nbconvert_exporter": "python",
   "pygments_lexer": "ipython3",
   "version": "3.9.7"
  }
 },
 "nbformat": 4,
 "nbformat_minor": 5
}
